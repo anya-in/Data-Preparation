{
 "cells": [
  {
   "cell_type": "code",
   "execution_count": 12,
   "id": "ba0468c3-8a89-4bd1-bf77-2ab450e26a87",
   "metadata": {},
   "outputs": [],
   "source": [
    "import pandas as pd\n",
    "\n",
    "\n",
    "df = pd.read_csv(\"Electric_Consumption.csv\")\n"
   ]
  },
  {
   "cell_type": "code",
   "execution_count": 13,
   "id": "be9da1bb-c6fd-45d3-8d7d-d87dfc80b9b3",
   "metadata": {},
   "outputs": [],
   "source": [
    "# Drop rows with any missing values\n",
    "df = df.dropna()\n"
   ]
  },
  {
   "cell_type": "code",
   "execution_count": 26,
   "id": "a5b1243a-1164-48e4-9e6c-fc1348ce6d85",
   "metadata": {},
   "outputs": [],
   "source": [
    "df = df.drop_duplicates()\n",
    "#Clean column names (strip spaces and title case)\n",
    "df.columns = df.columns.str.strip()\n"
   ]
  },
  {
   "cell_type": "code",
   "execution_count": 28,
   "id": "a5dcd2a6-bd26-42c7-a3b9-918ec3970d88",
   "metadata": {},
   "outputs": [],
   "source": [
    "#Convert data types (example: numeric columns)\n",
    "numeric_cols = [\n",
    "    'Current Charges',\n",
    "    'Consumption (KWH)',\n",
    "    'KWH Charges',\n",
    "    'Consumption (KW)',\n",
    "    'KW Charges',\n",
    "    'Other charges'\n",
    "]\n",
    "\n",
    "# Convert these to float \n",
    "df[numeric_cols] = df[numeric_cols].apply(pd.to_numeric)\n"
   ]
  },
  {
   "cell_type": "code",
   "execution_count": 30,
   "id": "117598cc-0cc9-4f03-a37b-f98536ed00e1",
   "metadata": {},
   "outputs": [],
   "source": [
    "# Normalize numeric columns using MinMaxScaler\n",
    "scaler = MinMaxScaler()\n",
    "df[numeric_cols] = scaler.fit_transform(df[numeric_cols])"
   ]
  },
  {
   "cell_type": "code",
   "execution_count": 32,
   "id": "cc69ec40-9a27-45b3-b7be-b012609a213b",
   "metadata": {},
   "outputs": [],
   "source": [
    "#Save cleaned data\n",
    "df.to_csv(\"cleaned_data.csv\", index=False)"
   ]
  },
  {
   "cell_type": "code",
   "execution_count": 34,
   "id": "571527f0-783d-4d89-8ebb-8cd4f6f2693e",
   "metadata": {},
   "outputs": [
    {
     "name": "stdout",
     "output_type": "stream",
     "text": [
      "Data successfully cleaned and saved as cleaned_data.csv\n"
     ]
    }
   ],
   "source": [
    "print(\"Data successfully cleaned and saved as cleaned_data.csv\")"
   ]
  },
  {
   "cell_type": "code",
   "execution_count": null,
   "id": "a2951c6a-7da2-4ad1-bb21-faea75eac951",
   "metadata": {},
   "outputs": [],
   "source": []
  }
 ],
 "metadata": {
  "kernelspec": {
   "display_name": "Python [conda env:base] *",
   "language": "python",
   "name": "conda-base-py"
  },
  "language_info": {
   "codemirror_mode": {
    "name": "ipython",
    "version": 3
   },
   "file_extension": ".py",
   "mimetype": "text/x-python",
   "name": "python",
   "nbconvert_exporter": "python",
   "pygments_lexer": "ipython3",
   "version": "3.12.7"
  }
 },
 "nbformat": 4,
 "nbformat_minor": 5
}
